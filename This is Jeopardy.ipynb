{
 "cells": [
  {
   "cell_type": "markdown",
   "metadata": {},
   "source": [
    "# This is Jeopardy!"
   ]
  },
  {
   "cell_type": "markdown",
   "metadata": {},
   "source": [
    "#### Overview"
   ]
  },
  {
   "cell_type": "markdown",
   "metadata": {},
   "source": [
    "This project is slightly different than others you have encountered thus far. Instead of a step-by-step tutorial, this project contains a series of open-ended requirements which describe the project you'll be building. There are many possible ways to correctly fulfill all of these requirements, and you should expect to use the internet, Codecademy, and/or other resources when you encounter a problem that you cannot easily solve."
   ]
  },
  {
   "cell_type": "markdown",
   "metadata": {},
   "source": [
    "#### Project Goals"
   ]
  },
  {
   "cell_type": "markdown",
   "metadata": {},
   "source": [
    "You will work to write several functions that investigate a dataset of _Jeopardy!_ questions and answers. Filter the dataset for topics that you're interested in, compute the average difficulty of those questions, and train to become the next Jeopardy champion!"
   ]
  },
  {
   "cell_type": "markdown",
   "metadata": {},
   "source": [
    "## Prerequisites"
   ]
  },
  {
   "cell_type": "markdown",
   "metadata": {},
   "source": [
    "In order to complete this project, you should have completed the Pandas lessons in the <a href=\"https://www.codecademy.com/learn/paths/analyze-data-with-python\">Analyze Data with Python Skill Path</a>. You can also find those lessons in the <a href=\"https://www.codecademy.com/learn/data-processing-pandas\">Data Analysis with Pandas course</a> or the <a href=\"https://www.codecademy.com/learn/paths/data-science/\">Data Scientist Career Path</a>.\n",
    "\n",
    "Finally, the <a href=\"https://www.codecademy.com/learn/practical-data-cleaning\">Practical Data Cleaning</a> course may also be helpful."
   ]
  },
  {
   "cell_type": "markdown",
   "metadata": {},
   "source": [
    "## Project Requirements"
   ]
  },
  {
   "cell_type": "markdown",
   "metadata": {},
   "source": [
    "1. We've provided a csv file containing data about the game show _Jeopardy!_ in a file named `jeopardy.csv`. Load the data into a DataFrame and investigate its contents. Try to print out specific columns.\n",
    "\n",
    "   Note that in order to make this project as \"real-world\" as possible, we haven't modified the data at all - we're giving it to you exactly how we found it. As a result, this data isn't as \"clean\" as the datasets you normally find on Codecademy. More specifically, there's something odd about the column names. After you figure out the problem with the column names, you may want to rename them to make your life easier for the rest of the project.\n",
    "   \n",
    "   In order to display the full contents of a column, we've added this line of code for you:\n",
    "   \n",
    "   ```py\n",
    "   pd.set_option('display.max_colwidth', None)\n",
    "   ```"
   ]
  },
  {
   "cell_type": "code",
   "execution_count": 8,
   "metadata": {},
   "outputs": [
    {
     "name": "stdout",
     "output_type": "stream",
     "text": [
      "<class 'pandas.core.frame.DataFrame'>\n",
      "RangeIndex: 216930 entries, 0 to 216929\n",
      "Data columns (total 7 columns):\n",
      " #   Column       Non-Null Count   Dtype \n",
      "---  ------       --------------   ----- \n",
      " 0   Show Number  216930 non-null  int64 \n",
      " 1   Air Date     216930 non-null  object\n",
      " 2   Round        216930 non-null  object\n",
      " 3   Category     216930 non-null  object\n",
      " 4   Value        216930 non-null  object\n",
      " 5   Question     216930 non-null  object\n",
      " 6   Answer       216928 non-null  object\n",
      "dtypes: int64(1), object(6)\n",
      "memory usage: 11.6+ MB\n",
      "None\n",
      "0                               For the last 8 years of his life, Galileo was under house arrest for espousing this man's theory\n",
      "1                    No. 2: 1912 Olympian; football star at Carlisle Indian School; 6 MLB seasons with the Reds, Giants & Braves\n",
      "2                                       The city of Yuma in this state has a record average of 4,055 hours of sunshine each year\n",
      "3                                           In 1963, live on \"The Art Linkletter Show\", this company served its billionth burger\n",
      "4                       Signer of the Dec. of Indep., framer of the Constitution of Mass., second President of the United States\n",
      "                                                                   ...                                                          \n",
      "216925                                                This Puccini opera turns on the solution to 3 riddles posed by the heroine\n",
      "216926                   In North America this term is properly applied to only 4 species that are crested, including the tufted\n",
      "216927                 In Penny Lane, where this \"Hellraiser\" grew up, the barber shaves another customer--then flays him alive!\n",
      "216928    From Ft. Sill, Okla. he made the plea, Arizona is my land, my home, my father's land, to which I now ask to... return\"\n",
      "216929                   A silent movie title includes the last name of this 18th c. statesman & favorite of Catherine the Great\n",
      "Name: Question, Length: 216930, dtype: object\n"
     ]
    }
   ],
   "source": [
    "import pandas as pd\n",
    "pd.set_option('display.max_colwidth', None)\n",
    "\n",
    "jeopardy = pd.read_csv(\"jeopardy.csv\")\n",
    "\n",
    "jeopardy.rename(columns={ \" Air Date\": \"Air Date\", \" Round\": \"Round\", \" Category\": \"Category\", \" Value\": \"Value\", \" Question\": \"Question\", \" Answer\": \"Answer\" }, inplace=True)\n",
    "\n",
    "print(jeopardy.info())\n",
    "print(jeopardy[\"Question\"])"
   ]
  },
  {
   "cell_type": "markdown",
   "metadata": {},
   "source": [
    "2. Write a function that filters the dataset for questions that contains all of the words in a list of words. For example, when the list `[\"King\", \"England\"]` was passed to our function, the function returned a DataFrame of 49 rows. Every row had the strings `\"King\"` and `\"England\"` somewhere in its `\" Question\"`.\n",
    "\n",
    "   Test your function by printing out the column containing the question of each row of the dataset."
   ]
  },
  {
   "cell_type": "code",
   "execution_count": 12,
   "metadata": {},
   "outputs": [
    {
     "name": "stdout",
     "output_type": "stream",
     "text": [
      "4953                    Both England's King George V & FDR put their stamp of approval on this \"King of Hobbies\"\n",
      "6337      In retaliation for Viking raids, this \"Unready\" king of England attacks Norse areas of the Isle of Man\n",
      "9191                    This king of England beat the odds to trounce the French in the 1415 Battle of Agincourt\n",
      "11710               This Scotsman, the first Stuart king of England, was called \"The Wisest Fool in Christendom\"\n",
      "13454                                       It's the number that followed the last king of England named William\n",
      "                                                           ...                                                  \n",
      "208295        In 1066 this great-great grandson of Rollo made what some call the last Viking invasion of England\n",
      "208742                      Dutch-born king who ruled England jointly with Mary II & is a tasty New Zealand fish\n",
      "213870                In 1781 William Herschel discovered Uranus & initially named it after this king of England\n",
      "216021          His nickname was \"Bertie\", but he used this name & number when he became king of England in 1901\n",
      "216789        This kingdom of England grew from 2 settlements, one founded around 495 by Cerdic & his son Cynric\n",
      "Name: Question, Length: 152, dtype: object\n"
     ]
    }
   ],
   "source": [
    "def find_questions(data, words):\n",
    "    for word in words:\n",
    "        word = word\n",
    "    filter = lambda x: all(word.lower() in x.lower() for word in words)\n",
    "    return data.loc[data[\"Question\"].apply(filter)]\n",
    "\n",
    "filtered = find_questions(jeopardy, [\"King\", \"England\"])\n",
    "print(filtered[\"Question\"])\n"
   ]
  },
  {
   "cell_type": "markdown",
   "metadata": {},
   "source": [
    "3. Test your original function with a few different sets of words to try to find some ways your function breaks. Edit your function so it is more robust.\n",
    "\n",
    "   For example, think about capitalization. We probably want to find questions that contain the word `\"King\"` or `\"king\"`.\n",
    "   \n",
    "   You may also want to check to make sure you don't find rows that contain substrings of your given words. For example, our function found a question that didn't contain the word `\"king\"`, however it did contain the word `\"viking\"` &mdash; it found the `\"king\"` inside `\"viking\"`. Note that this also comes with some drawbacks &mdash; you would no longer find questions that contained words like `\"England's\"`."
   ]
  },
  {
   "cell_type": "code",
   "execution_count": 13,
   "metadata": {},
   "outputs": [
    {
     "name": "stdout",
     "output_type": "stream",
     "text": [
      "4953                    Both England's King George V & FDR put their stamp of approval on this \"King of Hobbies\"\n",
      "6337      In retaliation for Viking raids, this \"Unready\" king of England attacks Norse areas of the Isle of Man\n",
      "9191                    This king of England beat the odds to trounce the French in the 1415 Battle of Agincourt\n",
      "11710               This Scotsman, the first Stuart king of England, was called \"The Wisest Fool in Christendom\"\n",
      "13454                                       It's the number that followed the last king of England named William\n",
      "                                                           ...                                                  \n",
      "208295        In 1066 this great-great grandson of Rollo made what some call the last Viking invasion of England\n",
      "208742                      Dutch-born king who ruled England jointly with Mary II & is a tasty New Zealand fish\n",
      "213870                In 1781 William Herschel discovered Uranus & initially named it after this king of England\n",
      "216021          His nickname was \"Bertie\", but he used this name & number when he became king of England in 1901\n",
      "216789        This kingdom of England grew from 2 settlements, one founded around 495 by Cerdic & his son Cynric\n",
      "Name: Question, Length: 152, dtype: object\n",
      "6337                           In retaliation for Viking raids, this \"Unready\" king of England attacks Norse areas of the Isle of Man\n",
      "9191                                         This king of England beat the odds to trounce the French in the 1415 Battle of Agincourt\n",
      "13454                                                            It's the number that followed the last king of England named William\n",
      "18076                                 In 1199 this crusader king of England was mortally wounded while besieging the castle of Chalus\n",
      "19168                                                       He was the only king of England to have \"The Great\" tacked on to his name\n",
      "21511                                                    this man and his son ruled England following the execution of King Charles I\n",
      "23810                            William the Conqueror was crowned King of England in Westminster Abbey on Christmas Day in this year\n",
      "23979                                  This \"unready\" king of England lost most of his country to Sven Forkbeard, the king of Denmark\n",
      "26780                                                     This king of England was killed by a Norman arrow at the Battle of Hastings\n",
      "33174                                                                          This king of England was a leader of the Third Crusade\n",
      "49994                                          Elizabeth I's half-brother, he reigned before her as King of England from 1547 to 1553\n",
      "57479                                                               He was the last of the 3 men who were king of England during 1066\n",
      "58949                                           He became King of England in 1399 after forcing his cousin Richard II from the throne\n",
      "66520                                  This king called \"the Great\" beat the Danes in 886 to keep all of England from being conquered\n",
      "72582                                     This current king of Jordan received part of his education in England at Harrow & Sandhurst\n",
      "77195                             He became King of England on June 26, 1483; just over 2 years later he was killed at Bosworth Field\n",
      "78510                             Henry II, who succeeded Stephen as king of England in 1154, was the first monarch from this \"house\"\n",
      "82525                                                    The \"rump\" parliament wanted him to be the last king England would ever name\n",
      "86412                                            This country's King Olaf V was born in England & was the grandson of King Edward VII\n",
      "89710                               This 11th Century King of England also ruled Denmark & Norway during the latter part of his reign\n",
      "90084                                                                      He was \"the Confessor\" king of England in the 11th century\n",
      "94425                                                                           From 1714 to 1830 every king of England had this name\n",
      "95019                               Regent for his predecessor from 1811 to 1820, he was king of England on his own from 1820 to 1830\n",
      "103704                                                                        This king of England was the grandfather of Elizabeth I\n",
      "115727                                                           In 1191, Berengaria married this king of England in Limassol, Cyprus\n",
      "118809                                                               In French this King of England is called Guillaume le Conquerant\n",
      "127484                                   Ethelred the Unready managed to lose most of England to King Sweyn Forkbeard of this country\n",
      "127758                                                     This state was named for the King of England who reigned from 1727 to 1760\n",
      "137818                                                           The last King William to rule England had this number after his name\n",
      "140080                                         In 1191 this \"Lion-Hearted\" king of England captured Cyprus & Acre during the Crusades\n",
      "140941              Dutch-born Protestant Prince William of Orange became king of England after this Catholic king was deposed & fled\n",
      "148910                     On his way back from failing to take Jerusalem in 1192, this king of England was captured & later ransomed\n",
      "150622                                                      The only king of England named Stephen was the grandson of this conqueror\n",
      "150880                                                          During Stanley Baldwin's term as P.M., this King of England abdicated\n",
      "151335                                   2000 saw a fight in England over running the lottery, with this Virgin king at the forefeont\n",
      "151746                                             Colchester, England was named for this legendary Celtic king immortalized in rhyme\n",
      "158120                  This Dutch-born English king introduced gin to England as the \"pouring spirit\" in the palace at Hampton Court\n",
      "159374                                                        A translation of the Bible is named for this king of England & Scotland\n",
      "159378                This king divorced the Church of England from the Catholic Church so that he could divorce the first of 6 wives\n",
      "167337                                                                 The last Anglo-Saxon king of England was killed in this battle\n",
      "174055                                                               This conqueror was crowned King of England on Christmas Day 1066\n",
      "175259                                                                             His short reign as King of England fell in in 1936\n",
      "178590                                       He succeeded Henry II as king of England in 1189 & was himself succeeded by John in 1199\n",
      "178921                                                                   Richard was crowned king of England at this place of worship\n",
      "186239              He was King of England from 1189 to 1199 but spent only 6 months there; the rest of the time, he was off fighting\n",
      "190102                                                  The man who became king of England in 1066 was succeeded by this king in 1087\n",
      "191531    On Jan. 28, 1547, after a physical & mental decline, this king of England was (surprisingly) survived by his wife Catherine\n",
      "195099                                In 1714 the Prince of Hanover, who spoke little English, became king of England under this name\n",
      "200369                8th C. King Offa built a 170-mile north-south dike that still partly marks the border of England & this country\n",
      "208742                                           Dutch-born king who ruled England jointly with Mary II & is a tasty New Zealand fish\n",
      "216021                               His nickname was \"Bertie\", but he used this name & number when he became king of England in 1901\n",
      "Name: Question, dtype: object\n"
     ]
    }
   ],
   "source": [
    "filtered_2 = find_questions(jeopardy, [\"king\", \"england\"])\n",
    "print(filtered_2[\"Question\"])\n",
    "\n",
    "filtered_3 = find_questions(jeopardy, [\" King \", \" England \"])\n",
    "print(filtered_3[\"Question\"])"
   ]
  },
  {
   "cell_type": "markdown",
   "metadata": {},
   "source": [
    "4. We may want to eventually compute aggregate statistics, like `.mean()` on the `\" Value\"` column. But right now, the values in that column are strings. Convert the`\" Value\"` column to floats. If you'd like to, you can create a new column with float values.\n",
    "\n",
    "   While most of the values in the `\" Value\"` column represent a dollar amount as a string, note that some do not &mdash; these values will need to be handled differently!\n",
    "\n",
    "   Now that you can filter the dataset of question, use your new column that contains the float values of each question to find the \"difficulty\" of certain topics. For example, what is the average value of questions that contain the word `\"King\"`?\n",
    "   \n",
    "   Make sure to use the dataset that contains the float values as the dataset you use in your filtering function."
   ]
  },
  {
   "cell_type": "code",
   "execution_count": 46,
   "metadata": {},
   "outputs": [
    {
     "name": "stdout",
     "output_type": "stream",
     "text": [
      "771.8833850722094\n"
     ]
    }
   ],
   "source": [
    "#print(jeopardy[\"Value\"])\n",
    "#print(jeopardy[\"Value\"].unique())\n",
    "\n",
    "# Define function to create float values\n",
    "def turn_into_float(value):\n",
    "    if value == \"no value\":\n",
    "        value = float(0)\n",
    "    else:\n",
    "        value = value.strip(\"$\")\n",
    "        value = value.replace(\",\", \"\")\n",
    "        value = float(value)\n",
    "    return value\n",
    "\n",
    "#TEST function\n",
    "#value_1 = \"$2,000\"\n",
    "#float_value_1 = turn_into_float(value_1)\n",
    "#print(float_value_1)\n",
    "#print(type(float_value_1))\n",
    "\n",
    "# Create float value column\n",
    "jeopardy[\"Float Value\"] = jeopardy[\"Value\"].apply(turn_into_float)\n",
    "#print(jeopardy[\"Float Value\"])\n",
    "#print(jeopardy[\"Float Value\"].unique())\n",
    "\n",
    "#Average value of questions that contain the word \"King\"?\n",
    "filtered_king = find_questions(jeopardy, [\"King\"])\n",
    "#print(filtered_king[\"Question\"])\n",
    "\n",
    "\n",
    "average_value_king = filtered_king[\"Float Value\"].mean()\n",
    "print(average_value_king)"
   ]
  },
  {
   "cell_type": "markdown",
   "metadata": {},
   "source": [
    "5. Write a function that returns the count of unique answers to all of the questions in a dataset. For example, after filtering the entire dataset to only questions containing the word `\"King\"`, we could then find all of the unique answers to those questions. The answer \"Henry VIII\" appeared 55 times and was the most common answer."
   ]
  },
  {
   "cell_type": "code",
   "execution_count": 48,
   "metadata": {},
   "outputs": [
    {
     "name": "stdout",
     "output_type": "stream",
     "text": [
      "Answer\n",
      "Henry VIII         55\n",
      "Solomon            35\n",
      "Richard III        33\n",
      "Louis XIV          31\n",
      "David              30\n",
      "                   ..\n",
      "francs              1\n",
      "an idyll            1\n",
      "The Magna Carta     1\n",
      "adrift              1\n",
      "a dream             1\n",
      "Name: count, Length: 5268, dtype: int64\n"
     ]
    }
   ],
   "source": [
    "def count_of_unique_answers(data):\n",
    "    return data[\"Answer\"].value_counts()\n",
    "\n",
    "print(count_of_unique_answers(filtered_king))"
   ]
  },
  {
   "cell_type": "markdown",
   "metadata": {},
   "source": [
    "6. Explore from here! This is an incredibly rich dataset, and there are so many interesting things to discover. There are a few columns that we haven't even started looking at yet. Here are some ideas on ways to continue working with this data:\n",
    "\n",
    " * Investigate the ways in which questions change over time by filtering by the date. How many questions from the 90s use the word `\"Computer\"` compared to questions from the 2000s?\n",
    " * Is there a connection between the round and the category? Are you more likely to find certain categories, like `\"Literature\"` in Single Jeopardy or Double Jeopardy?\n",
    " * Build a system to quiz yourself. Grab random questions, and use the <a href=\"https://docs.python.org/3/library/functions.html#input\">input</a> function to get a response from the user. Check to see if that response was right or wrong."
   ]
  },
  {
   "cell_type": "code",
   "execution_count": null,
   "metadata": {},
   "outputs": [],
   "source": []
  },
  {
   "cell_type": "markdown",
   "metadata": {},
   "source": [
    "## Solution"
   ]
  },
  {
   "cell_type": "markdown",
   "metadata": {},
   "source": [
    "7. Compare your program to our <a href=\"https://content.codecademy.com/PRO/independent-practice-projects/jeopardy/jeopardy_solution.zip\">sample solution code</a> - remember, that your program might look different from ours (and probably will) and that's okay!"
   ]
  },
  {
   "cell_type": "markdown",
   "metadata": {},
   "source": [
    "8. Great work! Visit <a href=\"https://discuss.codecademy.com/t/this-is-jeopardy-challenge-project-python-pandas/462365\">our forums</a> to compare your project to our sample solution code. You can also learn how to host your own solution on GitHub so you can share it with other learners! Your solution might look different from ours, and that's okay! There are multiple ways to solve these projects, and you'll learn more by seeing others' code."
   ]
  },
  {
   "cell_type": "code",
   "execution_count": null,
   "metadata": {},
   "outputs": [],
   "source": []
  }
 ],
 "metadata": {
  "kernelspec": {
   "display_name": "Python [conda env:base] *",
   "language": "python",
   "name": "conda-base-py"
  },
  "language_info": {
   "codemirror_mode": {
    "name": "ipython",
    "version": 3
   },
   "file_extension": ".py",
   "mimetype": "text/x-python",
   "name": "python",
   "nbconvert_exporter": "python",
   "pygments_lexer": "ipython3",
   "version": "3.13.5"
  }
 },
 "nbformat": 4,
 "nbformat_minor": 4
}
